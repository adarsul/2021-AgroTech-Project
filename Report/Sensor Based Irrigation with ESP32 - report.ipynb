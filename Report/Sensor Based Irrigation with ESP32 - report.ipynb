{
 "cells": [
  {
   "cell_type": "markdown",
   "id": "0b3f1efa",
   "metadata": {},
   "source": [
    "# Sensor Based Irrigation with ESP32\n",
    "\n",
    "date \n",
    "\n",
    "Adar Sulema, Gabriel Bar Sella\n",
    "\n",
    "The Faculty of Agriculture, The Hebrew University of Jerusalem (ISRAEL)\n",
    "\n",
    "***\n",
    "\n",
    "## Introduction\n",
    "\n",
    "In this project we used data collected by PM-WCS-3 Soil sensor and HX711 load cell using ESP32 in order to find change in soil moisture and weight to create a sensor based irrigation system.  \n",
    "\n",
    "Automated Irrigation is very common in these days with everyone from hobby gardeners to commercial growers using some form of computer controlled irrigation. Most common systems are open loop systems where irrigation is applied at fixed time intervals. The next generation of automated irrigation are closed loop systems using data regarding parameters of soil, plant and environment to decide when to water and how much. In our project we made two closed loop systems of automatic irrigation based on two parameters - VWC and weight.\n",
    "\n",
    "\n",
    "### VWC\n",
    "**Volumetric Water Content** is defined by ratio between the volume of water to the volume of wet material and in our context is refered to as soil moisture.\n",
    "\n",
    "Mathematically defined as:\n",
    "\n",
    "$$ \\theta = \\frac{V_w}{V_{wet}} $$\n",
    "\n",
    "$V_w$ is the volume of water\n",
    "\n",
    "$V_{wet}$ is the total volume of wet matter represented as a sum of the volumes of solid, water and air. \n",
    "$$ V_{wet} = V_s + V_w + V_a $$\n",
    "\n",
    "### Weight\n",
    "The total weight of a potted plant is equivalent to the weight of the plant, soil, pot and water. Assuming that weight of soil and the pot do not change we can attribute all changes in weight to water irrigation and consumption and plant growth.\n",
    "\n",
    "$$ m_{total} = m_{constant} + m_w + m_{plant} $$\n",
    "\n",
    "In order to determine plant growth in mass we will use measured amounts of water. Whenever the maximum weight of the plant is greater than the last maximum weight the difference is attributed to gain in plant matter.\n",
    "\n",
    "$$ Growth = m_{max2} - m_{max1} $$\n",
    "\n",
    "\n",
    "#### Our goals:\n",
    "* Soil moisture irrigation:\n",
    "A system that starts watering when VWC goes under a certain threshold and stops when desired VWC is reached.\n",
    "* Irrigation by weight:\n",
    "A system that irrigates when the total weight goes under a certain threshold representing the loss of water. The system keeps record of the maximum weight everytime it is reached, updates plant growth in mass and threshold weight.\n",
    "\n",
    "## Methods"
   ]
  },
  {
   "cell_type": "markdown",
   "id": "d95763e7",
   "metadata": {},
   "source": []
  },
  {
   "cell_type": "code",
   "execution_count": null,
   "id": "70cfb7e1",
   "metadata": {},
   "outputs": [],
   "source": []
  },
  {
   "cell_type": "markdown",
   "id": "615f7434",
   "metadata": {},
   "source": []
  }
 ],
 "metadata": {
  "kernelspec": {
   "display_name": "Python 3",
   "language": "python",
   "name": "python3"
  },
  "language_info": {
   "codemirror_mode": {
    "name": "ipython",
    "version": 3
   },
   "file_extension": ".py",
   "mimetype": "text/x-python",
   "name": "python",
   "nbconvert_exporter": "python",
   "pygments_lexer": "ipython3",
   "version": "3.8.8"
  }
 },
 "nbformat": 4,
 "nbformat_minor": 5
}
