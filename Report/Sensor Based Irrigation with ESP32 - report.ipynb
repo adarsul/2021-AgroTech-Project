{
 "cells": [
  {
   "cell_type": "markdown",
   "id": "0b3f1efa",
   "metadata": {},
   "source": [
    "# Sensor Based Irrigation with ESP32\n",
    "\n",
    "date \n",
    "\n",
    "Adar Sulema, Gabriel Bar Sella\n",
    "\n",
    "The Faculty of Agriculture, The Hebrew University of Jerusalem (ISRAEL)\n",
    "\n",
    "***\n",
    "\n",
    "## Introduction\n",
    "\n",
    "In this project we used data collected by PM-WCS-3 Soil sensor and HX711 load cell using ESP32 in order to find change in soil moisture and weight to create a sensor based irrigation system.  \n",
    "\n",
    "Automated Irrigation is very common in these days with everyone from hobby gardeners to commercial growers using some form of computer controlled irrigation. Most common systems are open loop systems where irrigation is applied at fixed time intervals. "
   ]
  },
  {
   "cell_type": "markdown",
   "id": "d95763e7",
   "metadata": {},
   "source": []
  },
  {
   "cell_type": "code",
   "execution_count": null,
   "id": "70cfb7e1",
   "metadata": {},
   "outputs": [],
   "source": []
  },
  {
   "cell_type": "markdown",
   "id": "615f7434",
   "metadata": {},
   "source": []
  }
 ],
 "metadata": {
  "kernelspec": {
   "display_name": "Python 3",
   "language": "python",
   "name": "python3"
  },
  "language_info": {
   "codemirror_mode": {
    "name": "ipython",
    "version": 3
   },
   "file_extension": ".py",
   "mimetype": "text/x-python",
   "name": "python",
   "nbconvert_exporter": "python",
   "pygments_lexer": "ipython3",
   "version": "3.8.8"
  }
 },
 "nbformat": 4,
 "nbformat_minor": 5
}
